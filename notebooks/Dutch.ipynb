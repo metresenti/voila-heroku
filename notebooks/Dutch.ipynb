{
 "cells": [
  {
   "cell_type": "code",
   "execution_count": 1,
   "metadata": {
    "executionInfo": {
     "elapsed": 1064,
     "status": "ok",
     "timestamp": 1601756315107,
     "user": {
      "displayName": "Eric Ontieri",
      "photoUrl": "",
      "userId": "16933786760694183370"
     },
     "user_tz": 300
    },
    "id": "xY0x_Zuwd12K"
   },
   "outputs": [],
   "source": [
    "import requests\n",
    "import pandas as pd\n",
    "\n",
    "server_url = f\"http://8828d2d3cf1b.ngrok.io/predict\"\n",
    "method = \"POST\"\n",
    "headers = {\"content-type\": \"application/json\"}"
   ]
  },
  {
   "cell_type": "code",
   "execution_count": 2,
   "metadata": {
    "executionInfo": {
     "elapsed": 1056,
     "status": "ok",
     "timestamp": 1601756315109,
     "user": {
      "displayName": "Eric Ontieri",
      "photoUrl": "",
      "userId": "16933786760694183370"
     },
     "user_tz": 300
    },
    "id": "MNYrSjfjoXlt"
   },
   "outputs": [],
   "source": [
    "import ipywidgets as widgets"
   ]
  },
  {
   "cell_type": "code",
   "execution_count": 3,
   "metadata": {
    "executionInfo": {
     "elapsed": 1414,
     "status": "ok",
     "timestamp": 1601756315471,
     "user": {
      "displayName": "Eric Ontieri",
      "photoUrl": "",
      "userId": "16933786760694183370"
     },
     "user_tz": 300
    },
    "id": "HAyMPluwpzRO"
   },
   "outputs": [],
   "source": [
    "out_pl = widgets.Output()\n",
    "out_pl.clear_output()\n",
    "with out_pl: display()"
   ]
  },
  {
   "cell_type": "code",
   "execution_count": 4,
   "metadata": {
    "executionInfo": {
     "elapsed": 1411,
     "status": "ok",
     "timestamp": 1601756315472,
     "user": {
      "displayName": "Eric Ontieri",
      "photoUrl": "",
      "userId": "16933786760694183370"
     },
     "user_tz": 300
    },
    "id": "c0LI1sKtEk1R"
   },
   "outputs": [],
   "source": [
    "from googletrans import Translator\n",
    "translator = Translator()\n",
    "out_tr = widgets.Output()\n",
    "out_tr.clear_output()\n",
    "with out_tr: display()"
   ]
  },
  {
   "cell_type": "code",
   "execution_count": 5,
   "metadata": {
    "executionInfo": {
     "elapsed": 1408,
     "status": "ok",
     "timestamp": 1601756315473,
     "user": {
      "displayName": "Eric Ontieri",
      "photoUrl": "",
      "userId": "16933786760694183370"
     },
     "user_tz": 300
    },
    "id": "6PfU2dppow8r"
   },
   "outputs": [],
   "source": [
    "btn_run = widgets.Button(description='Classify')"
   ]
  },
  {
   "cell_type": "code",
   "execution_count": 6,
   "metadata": {
    "executionInfo": {
     "elapsed": 1405,
     "status": "ok",
     "timestamp": 1601756315474,
     "user": {
      "displayName": "Eric Ontieri",
      "photoUrl": "",
      "userId": "16933786760694183370"
     },
     "user_tz": 300
    },
    "id": "2iWjqy-nt16D"
   },
   "outputs": [],
   "source": [
    "news_text = widgets.Textarea(\n",
    "    value='',\n",
    "    placeholder='Type something',\n",
    "    description='String:',\n",
    "    disabled=False\n",
    ")"
   ]
  },
  {
   "cell_type": "code",
   "execution_count": 7,
   "metadata": {
    "executionInfo": {
     "elapsed": 1400,
     "status": "ok",
     "timestamp": 1601756315474,
     "user": {
      "displayName": "Eric Ontieri",
      "photoUrl": "",
      "userId": "16933786760694183370"
     },
     "user_tz": 300
    },
    "id": "lvmqNsBt7Bwh"
   },
   "outputs": [],
   "source": [
    "lbl_pred = widgets.Label()"
   ]
  },
  {
   "cell_type": "code",
   "execution_count": 8,
   "metadata": {
    "executionInfo": {
     "elapsed": 1397,
     "status": "ok",
     "timestamp": 1601756315477,
     "user": {
      "displayName": "Eric Ontieri",
      "photoUrl": "",
      "userId": "16933786760694183370"
     },
     "user_tz": 300
    },
    "id": "cAzY5s6JopwC"
   },
   "outputs": [],
   "source": [
    "def on_click_classify(change):\n",
    "    text = news_text.value\n",
    "    out_pl.clear_output()\n",
    "    with out_pl: display(text)\n",
    "\n",
    "    out_tr.clear_output()\n",
    "    tr_test=translator.translate(text, dest='en').text\n",
    "    with out_tr: display(tr_test)\n",
    "    \n",
    "    pred_sentences =  [text]\n",
    "    data = pd.DataFrame(pred_sentences).to_json()\n",
    "    r = requests.request(method, server_url, headers=headers, data=data)\n",
    "    pred = -1 if r.json()[0][0]>r.json()[0][1] else 1\n",
    "    prob = r.json()[0][0] if r.json()[0][0]>r.json()[0][1] else r.json()[0][1]\n",
    "    lbl_pred.value = f'Prediction: {pred}; Probability: {prob}'\n",
    "    \n",
    "    news_text.value=''\n",
    "    news_text.placeholder='Type something'\n",
    " \n",
    "\n",
    "btn_run.on_click(on_click_classify)"
   ]
  },
  {
   "cell_type": "code",
   "execution_count": 9,
   "metadata": {
    "executionInfo": {
     "elapsed": 1395,
     "status": "ok",
     "timestamp": 1601756315478,
     "user": {
      "displayName": "Eric Ontieri",
      "photoUrl": "",
      "userId": "16933786760694183370"
     },
     "user_tz": 300
    },
    "id": "YE2EbY3wskTg"
   },
   "outputs": [],
   "source": [
    "from ipywidgets import VBox"
   ]
  },
  {
   "cell_type": "code",
   "execution_count": 10,
   "metadata": {
    "colab": {
     "base_uri": "https://localhost:8080/",
     "height": 279,
     "referenced_widgets": [
      "4a7656d395154116a0a2160256c0bfa6",
      "77e6cb4236ee495ea5fe510373374bb8",
      "160b0644dc7c46c9850a7c9b7d4098d8",
      "6b4db593a1bc4fd68894264115ad081a",
      "bab4911842f84e84977a21a5fbf33339",
      "42a90d9be1b14b6da9a774d78e79bd0c",
      "3786fe541dff4ce89dc4cb1bcfb370ce",
      "1461f8ae38df4663a2ee1722e7c64f80",
      "5197b69aeb8942138115de5ec9ce7210",
      "88aa3c85a80648a997c0989f9b97cde9",
      "cc60d3ab4210458d8d3d3816d21c84ad",
      "0fd788886f5e430a9a987d6ea823fb93",
      "d79c8d06ada3495588e2306e27777ea5",
      "0fb0e2bd1ed946ad891c8f6c7ef5ee41",
      "2c1964ffc4974fa58511dc3f97f3792d",
      "2085ff5af88b41df945306eafefdbb1f",
      "e7938ecefeb547afb58fe5208e66fce1",
      "58f877166cfa408c8d5478bd6cd76f2e",
      "0e457df55c1645d886de24d2e28ff87d",
      "5b553f4f8e9645788957f5a9cf3ff960",
      "dcbe26fa28d241de853fb2ad6403755f",
      "8749fd7046bd4dd9a54cc9d708aa0f48",
      "b6b36c0fe724482e85e1bf78491f0a20",
      "99fa9f7adeb845e2b3dd721f62f1f91c"
     ]
    },
    "executionInfo": {
     "elapsed": 1391,
     "status": "ok",
     "timestamp": 1601756315479,
     "user": {
      "displayName": "Eric Ontieri",
      "photoUrl": "",
      "userId": "16933786760694183370"
     },
     "user_tz": 300
    },
    "id": "9HsFJakpsEim",
    "outputId": "ffe28702-9cb6-45d5-e8b8-0b63aef7df2b"
   },
   "outputs": [
    {
     "data": {
      "application/vnd.jupyter.widget-view+json": {
       "model_id": "46ab98fd22c94d928950cd504ea56e66",
       "version_major": 2,
       "version_minor": 0
      },
      "text/plain": [
       "VBox(children=(Label(value='Input Dutch text to be classified:'), Textarea(value='', description='String:', pl…"
      ]
     },
     "metadata": {},
     "output_type": "display_data"
    }
   ],
   "source": [
    "VBox([widgets.Label('Input Dutch text to be classified:'), news_text, btn_run,widgets.Label('Your text:'),out_pl,widgets.Label('English translation:'), out_tr, lbl_pred])"
   ]
  }
 ],
 "metadata": {
  "accelerator": "GPU",
  "colab": {
   "collapsed_sections": [],
   "name": "DutchpredictionAsv3.ipynb",
   "provenance": []
  },
  "kernelspec": {
   "display_name": "Python 3",
   "language": "python",
   "name": "python3"
  },
  "language_info": {
   "codemirror_mode": {
    "name": "ipython",
    "version": 3
   },
   "file_extension": ".py",
   "mimetype": "text/x-python",
   "name": "python",
   "nbconvert_exporter": "python",
   "pygments_lexer": "ipython3",
   "version": "3.7.6"
  },
  "widgets": {
   "application/vnd.jupyter.widget-state+json": {
    "0e457df55c1645d886de24d2e28ff87d": {
     "model_module": "@jupyter-widgets/controls",
     "model_name": "DescriptionStyleModel",
     "state": {
      "_model_module": "@jupyter-widgets/controls",
      "_model_module_version": "1.5.0",
      "_model_name": "DescriptionStyleModel",
      "_view_count": null,
      "_view_module": "@jupyter-widgets/base",
      "_view_module_version": "1.2.0",
      "_view_name": "StyleView",
      "description_width": ""
     }
    },
    "0fb0e2bd1ed946ad891c8f6c7ef5ee41": {
     "model_module": "@jupyter-widgets/base",
     "model_name": "LayoutModel",
     "state": {
      "_model_module": "@jupyter-widgets/base",
      "_model_module_version": "1.2.0",
      "_model_name": "LayoutModel",
      "_view_count": null,
      "_view_module": "@jupyter-widgets/base",
      "_view_module_version": "1.2.0",
      "_view_name": "LayoutView",
      "align_content": null,
      "align_items": null,
      "align_self": null,
      "border": null,
      "bottom": null,
      "display": null,
      "flex": null,
      "flex_flow": null,
      "grid_area": null,
      "grid_auto_columns": null,
      "grid_auto_flow": null,
      "grid_auto_rows": null,
      "grid_column": null,
      "grid_gap": null,
      "grid_row": null,
      "grid_template_areas": null,
      "grid_template_columns": null,
      "grid_template_rows": null,
      "height": null,
      "justify_content": null,
      "justify_items": null,
      "left": null,
      "margin": null,
      "max_height": null,
      "max_width": null,
      "min_height": null,
      "min_width": null,
      "object_fit": null,
      "object_position": null,
      "order": null,
      "overflow": null,
      "overflow_x": null,
      "overflow_y": null,
      "padding": null,
      "right": null,
      "top": null,
      "visibility": null,
      "width": null
     }
    },
    "0fd788886f5e430a9a987d6ea823fb93": {
     "model_module": "@jupyter-widgets/base",
     "model_name": "LayoutModel",
     "state": {
      "_model_module": "@jupyter-widgets/base",
      "_model_module_version": "1.2.0",
      "_model_name": "LayoutModel",
      "_view_count": null,
      "_view_module": "@jupyter-widgets/base",
      "_view_module_version": "1.2.0",
      "_view_name": "LayoutView",
      "align_content": null,
      "align_items": null,
      "align_self": null,
      "border": null,
      "bottom": null,
      "display": null,
      "flex": null,
      "flex_flow": null,
      "grid_area": null,
      "grid_auto_columns": null,
      "grid_auto_flow": null,
      "grid_auto_rows": null,
      "grid_column": null,
      "grid_gap": null,
      "grid_row": null,
      "grid_template_areas": null,
      "grid_template_columns": null,
      "grid_template_rows": null,
      "height": null,
      "justify_content": null,
      "justify_items": null,
      "left": null,
      "margin": null,
      "max_height": null,
      "max_width": null,
      "min_height": null,
      "min_width": null,
      "object_fit": null,
      "object_position": null,
      "order": null,
      "overflow": null,
      "overflow_x": null,
      "overflow_y": null,
      "padding": null,
      "right": null,
      "top": null,
      "visibility": null,
      "width": null
     }
    },
    "1461f8ae38df4663a2ee1722e7c64f80": {
     "model_module": "@jupyter-widgets/controls",
     "model_name": "LabelModel",
     "state": {
      "_dom_classes": [],
      "_model_module": "@jupyter-widgets/controls",
      "_model_module_version": "1.5.0",
      "_model_name": "LabelModel",
      "_view_count": null,
      "_view_module": "@jupyter-widgets/controls",
      "_view_module_version": "1.5.0",
      "_view_name": "LabelView",
      "description": "",
      "description_tooltip": null,
      "layout": "IPY_MODEL_5b553f4f8e9645788957f5a9cf3ff960",
      "placeholder": "​",
      "style": "IPY_MODEL_0e457df55c1645d886de24d2e28ff87d",
      "value": "English translation:"
     }
    },
    "160b0644dc7c46c9850a7c9b7d4098d8": {
     "model_module": "@jupyter-widgets/controls",
     "model_name": "LabelModel",
     "state": {
      "_dom_classes": [],
      "_model_module": "@jupyter-widgets/controls",
      "_model_module_version": "1.5.0",
      "_model_name": "LabelModel",
      "_view_count": null,
      "_view_module": "@jupyter-widgets/controls",
      "_view_module_version": "1.5.0",
      "_view_name": "LabelView",
      "description": "",
      "description_tooltip": null,
      "layout": "IPY_MODEL_0fd788886f5e430a9a987d6ea823fb93",
      "placeholder": "​",
      "style": "IPY_MODEL_cc60d3ab4210458d8d3d3816d21c84ad",
      "value": "Input Dutch text to be classified:"
     }
    },
    "2085ff5af88b41df945306eafefdbb1f": {
     "model_module": "@jupyter-widgets/base",
     "model_name": "LayoutModel",
     "state": {
      "_model_module": "@jupyter-widgets/base",
      "_model_module_version": "1.2.0",
      "_model_name": "LayoutModel",
      "_view_count": null,
      "_view_module": "@jupyter-widgets/base",
      "_view_module_version": "1.2.0",
      "_view_name": "LayoutView",
      "align_content": null,
      "align_items": null,
      "align_self": null,
      "border": null,
      "bottom": null,
      "display": null,
      "flex": null,
      "flex_flow": null,
      "grid_area": null,
      "grid_auto_columns": null,
      "grid_auto_flow": null,
      "grid_auto_rows": null,
      "grid_column": null,
      "grid_gap": null,
      "grid_row": null,
      "grid_template_areas": null,
      "grid_template_columns": null,
      "grid_template_rows": null,
      "height": null,
      "justify_content": null,
      "justify_items": null,
      "left": null,
      "margin": null,
      "max_height": null,
      "max_width": null,
      "min_height": null,
      "min_width": null,
      "object_fit": null,
      "object_position": null,
      "order": null,
      "overflow": null,
      "overflow_x": null,
      "overflow_y": null,
      "padding": null,
      "right": null,
      "top": null,
      "visibility": null,
      "width": null
     }
    },
    "2c1964ffc4974fa58511dc3f97f3792d": {
     "model_module": "@jupyter-widgets/controls",
     "model_name": "ButtonStyleModel",
     "state": {
      "_model_module": "@jupyter-widgets/controls",
      "_model_module_version": "1.5.0",
      "_model_name": "ButtonStyleModel",
      "_view_count": null,
      "_view_module": "@jupyter-widgets/base",
      "_view_module_version": "1.2.0",
      "_view_name": "StyleView",
      "button_color": null,
      "font_weight": ""
     }
    },
    "3786fe541dff4ce89dc4cb1bcfb370ce": {
     "model_module": "@jupyter-widgets/output",
     "model_name": "OutputModel",
     "state": {
      "_dom_classes": [],
      "_model_module": "@jupyter-widgets/output",
      "_model_module_version": "1.0.0",
      "_model_name": "OutputModel",
      "_view_count": null,
      "_view_module": "@jupyter-widgets/output",
      "_view_module_version": "1.0.0",
      "_view_name": "OutputView",
      "layout": "IPY_MODEL_b6b36c0fe724482e85e1bf78491f0a20",
      "msg_id": "",
      "outputs": [
       {
        "application/vnd.google.colaboratory.intrinsic+json": {
         "type": "string"
        },
        "metadata": {
         "tags": []
        },
        "output_type": "display_data",
        "text/plain": "'this company is failing'"
       }
      ]
     }
    },
    "42a90d9be1b14b6da9a774d78e79bd0c": {
     "model_module": "@jupyter-widgets/controls",
     "model_name": "LabelModel",
     "state": {
      "_dom_classes": [],
      "_model_module": "@jupyter-widgets/controls",
      "_model_module_version": "1.5.0",
      "_model_name": "LabelModel",
      "_view_count": null,
      "_view_module": "@jupyter-widgets/controls",
      "_view_module_version": "1.5.0",
      "_view_name": "LabelView",
      "description": "",
      "description_tooltip": null,
      "layout": "IPY_MODEL_58f877166cfa408c8d5478bd6cd76f2e",
      "placeholder": "​",
      "style": "IPY_MODEL_e7938ecefeb547afb58fe5208e66fce1",
      "value": "Your text:"
     }
    },
    "4a7656d395154116a0a2160256c0bfa6": {
     "model_module": "@jupyter-widgets/controls",
     "model_name": "VBoxModel",
     "state": {
      "_dom_classes": [],
      "_model_module": "@jupyter-widgets/controls",
      "_model_module_version": "1.5.0",
      "_model_name": "VBoxModel",
      "_view_count": null,
      "_view_module": "@jupyter-widgets/controls",
      "_view_module_version": "1.5.0",
      "_view_name": "VBoxView",
      "box_style": "",
      "children": [
       "IPY_MODEL_160b0644dc7c46c9850a7c9b7d4098d8",
       "IPY_MODEL_6b4db593a1bc4fd68894264115ad081a",
       "IPY_MODEL_bab4911842f84e84977a21a5fbf33339",
       "IPY_MODEL_42a90d9be1b14b6da9a774d78e79bd0c",
       "IPY_MODEL_3786fe541dff4ce89dc4cb1bcfb370ce",
       "IPY_MODEL_1461f8ae38df4663a2ee1722e7c64f80",
       "IPY_MODEL_5197b69aeb8942138115de5ec9ce7210",
       "IPY_MODEL_88aa3c85a80648a997c0989f9b97cde9"
      ],
      "layout": "IPY_MODEL_77e6cb4236ee495ea5fe510373374bb8"
     }
    },
    "5197b69aeb8942138115de5ec9ce7210": {
     "model_module": "@jupyter-widgets/output",
     "model_name": "OutputModel",
     "state": {
      "_dom_classes": [],
      "_model_module": "@jupyter-widgets/output",
      "_model_module_version": "1.0.0",
      "_model_name": "OutputModel",
      "_view_count": null,
      "_view_module": "@jupyter-widgets/output",
      "_view_module_version": "1.0.0",
      "_view_name": "OutputView",
      "layout": "IPY_MODEL_99fa9f7adeb845e2b3dd721f62f1f91c",
      "msg_id": "",
      "outputs": [
       {
        "application/vnd.google.colaboratory.intrinsic+json": {
         "type": "string"
        },
        "metadata": {
         "tags": []
        },
        "output_type": "display_data",
        "text/plain": "'this company is failing'"
       }
      ]
     }
    },
    "58f877166cfa408c8d5478bd6cd76f2e": {
     "model_module": "@jupyter-widgets/base",
     "model_name": "LayoutModel",
     "state": {
      "_model_module": "@jupyter-widgets/base",
      "_model_module_version": "1.2.0",
      "_model_name": "LayoutModel",
      "_view_count": null,
      "_view_module": "@jupyter-widgets/base",
      "_view_module_version": "1.2.0",
      "_view_name": "LayoutView",
      "align_content": null,
      "align_items": null,
      "align_self": null,
      "border": null,
      "bottom": null,
      "display": null,
      "flex": null,
      "flex_flow": null,
      "grid_area": null,
      "grid_auto_columns": null,
      "grid_auto_flow": null,
      "grid_auto_rows": null,
      "grid_column": null,
      "grid_gap": null,
      "grid_row": null,
      "grid_template_areas": null,
      "grid_template_columns": null,
      "grid_template_rows": null,
      "height": null,
      "justify_content": null,
      "justify_items": null,
      "left": null,
      "margin": null,
      "max_height": null,
      "max_width": null,
      "min_height": null,
      "min_width": null,
      "object_fit": null,
      "object_position": null,
      "order": null,
      "overflow": null,
      "overflow_x": null,
      "overflow_y": null,
      "padding": null,
      "right": null,
      "top": null,
      "visibility": null,
      "width": null
     }
    },
    "5b553f4f8e9645788957f5a9cf3ff960": {
     "model_module": "@jupyter-widgets/base",
     "model_name": "LayoutModel",
     "state": {
      "_model_module": "@jupyter-widgets/base",
      "_model_module_version": "1.2.0",
      "_model_name": "LayoutModel",
      "_view_count": null,
      "_view_module": "@jupyter-widgets/base",
      "_view_module_version": "1.2.0",
      "_view_name": "LayoutView",
      "align_content": null,
      "align_items": null,
      "align_self": null,
      "border": null,
      "bottom": null,
      "display": null,
      "flex": null,
      "flex_flow": null,
      "grid_area": null,
      "grid_auto_columns": null,
      "grid_auto_flow": null,
      "grid_auto_rows": null,
      "grid_column": null,
      "grid_gap": null,
      "grid_row": null,
      "grid_template_areas": null,
      "grid_template_columns": null,
      "grid_template_rows": null,
      "height": null,
      "justify_content": null,
      "justify_items": null,
      "left": null,
      "margin": null,
      "max_height": null,
      "max_width": null,
      "min_height": null,
      "min_width": null,
      "object_fit": null,
      "object_position": null,
      "order": null,
      "overflow": null,
      "overflow_x": null,
      "overflow_y": null,
      "padding": null,
      "right": null,
      "top": null,
      "visibility": null,
      "width": null
     }
    },
    "6b4db593a1bc4fd68894264115ad081a": {
     "model_module": "@jupyter-widgets/controls",
     "model_name": "TextareaModel",
     "state": {
      "_dom_classes": [],
      "_model_module": "@jupyter-widgets/controls",
      "_model_module_version": "1.5.0",
      "_model_name": "TextareaModel",
      "_view_count": null,
      "_view_module": "@jupyter-widgets/controls",
      "_view_module_version": "1.5.0",
      "_view_name": "TextareaView",
      "continuous_update": true,
      "description": "String:",
      "description_tooltip": null,
      "disabled": false,
      "layout": "IPY_MODEL_0fb0e2bd1ed946ad891c8f6c7ef5ee41",
      "placeholder": "Type something",
      "rows": null,
      "style": "IPY_MODEL_d79c8d06ada3495588e2306e27777ea5",
      "value": ""
     }
    },
    "77e6cb4236ee495ea5fe510373374bb8": {
     "model_module": "@jupyter-widgets/base",
     "model_name": "LayoutModel",
     "state": {
      "_model_module": "@jupyter-widgets/base",
      "_model_module_version": "1.2.0",
      "_model_name": "LayoutModel",
      "_view_count": null,
      "_view_module": "@jupyter-widgets/base",
      "_view_module_version": "1.2.0",
      "_view_name": "LayoutView",
      "align_content": null,
      "align_items": null,
      "align_self": null,
      "border": null,
      "bottom": null,
      "display": null,
      "flex": null,
      "flex_flow": null,
      "grid_area": null,
      "grid_auto_columns": null,
      "grid_auto_flow": null,
      "grid_auto_rows": null,
      "grid_column": null,
      "grid_gap": null,
      "grid_row": null,
      "grid_template_areas": null,
      "grid_template_columns": null,
      "grid_template_rows": null,
      "height": null,
      "justify_content": null,
      "justify_items": null,
      "left": null,
      "margin": null,
      "max_height": null,
      "max_width": null,
      "min_height": null,
      "min_width": null,
      "object_fit": null,
      "object_position": null,
      "order": null,
      "overflow": null,
      "overflow_x": null,
      "overflow_y": null,
      "padding": null,
      "right": null,
      "top": null,
      "visibility": null,
      "width": null
     }
    },
    "8749fd7046bd4dd9a54cc9d708aa0f48": {
     "model_module": "@jupyter-widgets/base",
     "model_name": "LayoutModel",
     "state": {
      "_model_module": "@jupyter-widgets/base",
      "_model_module_version": "1.2.0",
      "_model_name": "LayoutModel",
      "_view_count": null,
      "_view_module": "@jupyter-widgets/base",
      "_view_module_version": "1.2.0",
      "_view_name": "LayoutView",
      "align_content": null,
      "align_items": null,
      "align_self": null,
      "border": null,
      "bottom": null,
      "display": null,
      "flex": null,
      "flex_flow": null,
      "grid_area": null,
      "grid_auto_columns": null,
      "grid_auto_flow": null,
      "grid_auto_rows": null,
      "grid_column": null,
      "grid_gap": null,
      "grid_row": null,
      "grid_template_areas": null,
      "grid_template_columns": null,
      "grid_template_rows": null,
      "height": null,
      "justify_content": null,
      "justify_items": null,
      "left": null,
      "margin": null,
      "max_height": null,
      "max_width": null,
      "min_height": null,
      "min_width": null,
      "object_fit": null,
      "object_position": null,
      "order": null,
      "overflow": null,
      "overflow_x": null,
      "overflow_y": null,
      "padding": null,
      "right": null,
      "top": null,
      "visibility": null,
      "width": null
     }
    },
    "88aa3c85a80648a997c0989f9b97cde9": {
     "model_module": "@jupyter-widgets/controls",
     "model_name": "LabelModel",
     "state": {
      "_dom_classes": [],
      "_model_module": "@jupyter-widgets/controls",
      "_model_module_version": "1.5.0",
      "_model_name": "LabelModel",
      "_view_count": null,
      "_view_module": "@jupyter-widgets/controls",
      "_view_module_version": "1.5.0",
      "_view_name": "LabelView",
      "description": "",
      "description_tooltip": null,
      "layout": "IPY_MODEL_8749fd7046bd4dd9a54cc9d708aa0f48",
      "placeholder": "​",
      "style": "IPY_MODEL_dcbe26fa28d241de853fb2ad6403755f",
      "value": "Prediction: -1; Probability: 0.5767288208007812"
     }
    },
    "99fa9f7adeb845e2b3dd721f62f1f91c": {
     "model_module": "@jupyter-widgets/base",
     "model_name": "LayoutModel",
     "state": {
      "_model_module": "@jupyter-widgets/base",
      "_model_module_version": "1.2.0",
      "_model_name": "LayoutModel",
      "_view_count": null,
      "_view_module": "@jupyter-widgets/base",
      "_view_module_version": "1.2.0",
      "_view_name": "LayoutView",
      "align_content": null,
      "align_items": null,
      "align_self": null,
      "border": null,
      "bottom": null,
      "display": null,
      "flex": null,
      "flex_flow": null,
      "grid_area": null,
      "grid_auto_columns": null,
      "grid_auto_flow": null,
      "grid_auto_rows": null,
      "grid_column": null,
      "grid_gap": null,
      "grid_row": null,
      "grid_template_areas": null,
      "grid_template_columns": null,
      "grid_template_rows": null,
      "height": null,
      "justify_content": null,
      "justify_items": null,
      "left": null,
      "margin": null,
      "max_height": null,
      "max_width": null,
      "min_height": null,
      "min_width": null,
      "object_fit": null,
      "object_position": null,
      "order": null,
      "overflow": null,
      "overflow_x": null,
      "overflow_y": null,
      "padding": null,
      "right": null,
      "top": null,
      "visibility": null,
      "width": null
     }
    },
    "b6b36c0fe724482e85e1bf78491f0a20": {
     "model_module": "@jupyter-widgets/base",
     "model_name": "LayoutModel",
     "state": {
      "_model_module": "@jupyter-widgets/base",
      "_model_module_version": "1.2.0",
      "_model_name": "LayoutModel",
      "_view_count": null,
      "_view_module": "@jupyter-widgets/base",
      "_view_module_version": "1.2.0",
      "_view_name": "LayoutView",
      "align_content": null,
      "align_items": null,
      "align_self": null,
      "border": null,
      "bottom": null,
      "display": null,
      "flex": null,
      "flex_flow": null,
      "grid_area": null,
      "grid_auto_columns": null,
      "grid_auto_flow": null,
      "grid_auto_rows": null,
      "grid_column": null,
      "grid_gap": null,
      "grid_row": null,
      "grid_template_areas": null,
      "grid_template_columns": null,
      "grid_template_rows": null,
      "height": null,
      "justify_content": null,
      "justify_items": null,
      "left": null,
      "margin": null,
      "max_height": null,
      "max_width": null,
      "min_height": null,
      "min_width": null,
      "object_fit": null,
      "object_position": null,
      "order": null,
      "overflow": null,
      "overflow_x": null,
      "overflow_y": null,
      "padding": null,
      "right": null,
      "top": null,
      "visibility": null,
      "width": null
     }
    },
    "bab4911842f84e84977a21a5fbf33339": {
     "model_module": "@jupyter-widgets/controls",
     "model_name": "ButtonModel",
     "state": {
      "_dom_classes": [],
      "_model_module": "@jupyter-widgets/controls",
      "_model_module_version": "1.5.0",
      "_model_name": "ButtonModel",
      "_view_count": null,
      "_view_module": "@jupyter-widgets/controls",
      "_view_module_version": "1.5.0",
      "_view_name": "ButtonView",
      "button_style": "",
      "description": "Classify",
      "disabled": false,
      "icon": "",
      "layout": "IPY_MODEL_2085ff5af88b41df945306eafefdbb1f",
      "style": "IPY_MODEL_2c1964ffc4974fa58511dc3f97f3792d",
      "tooltip": ""
     }
    },
    "cc60d3ab4210458d8d3d3816d21c84ad": {
     "model_module": "@jupyter-widgets/controls",
     "model_name": "DescriptionStyleModel",
     "state": {
      "_model_module": "@jupyter-widgets/controls",
      "_model_module_version": "1.5.0",
      "_model_name": "DescriptionStyleModel",
      "_view_count": null,
      "_view_module": "@jupyter-widgets/base",
      "_view_module_version": "1.2.0",
      "_view_name": "StyleView",
      "description_width": ""
     }
    },
    "d79c8d06ada3495588e2306e27777ea5": {
     "model_module": "@jupyter-widgets/controls",
     "model_name": "DescriptionStyleModel",
     "state": {
      "_model_module": "@jupyter-widgets/controls",
      "_model_module_version": "1.5.0",
      "_model_name": "DescriptionStyleModel",
      "_view_count": null,
      "_view_module": "@jupyter-widgets/base",
      "_view_module_version": "1.2.0",
      "_view_name": "StyleView",
      "description_width": ""
     }
    },
    "dcbe26fa28d241de853fb2ad6403755f": {
     "model_module": "@jupyter-widgets/controls",
     "model_name": "DescriptionStyleModel",
     "state": {
      "_model_module": "@jupyter-widgets/controls",
      "_model_module_version": "1.5.0",
      "_model_name": "DescriptionStyleModel",
      "_view_count": null,
      "_view_module": "@jupyter-widgets/base",
      "_view_module_version": "1.2.0",
      "_view_name": "StyleView",
      "description_width": ""
     }
    },
    "e7938ecefeb547afb58fe5208e66fce1": {
     "model_module": "@jupyter-widgets/controls",
     "model_name": "DescriptionStyleModel",
     "state": {
      "_model_module": "@jupyter-widgets/controls",
      "_model_module_version": "1.5.0",
      "_model_name": "DescriptionStyleModel",
      "_view_count": null,
      "_view_module": "@jupyter-widgets/base",
      "_view_module_version": "1.2.0",
      "_view_name": "StyleView",
      "description_width": ""
     }
    }
   }
  }
 },
 "nbformat": 4,
 "nbformat_minor": 4
}
